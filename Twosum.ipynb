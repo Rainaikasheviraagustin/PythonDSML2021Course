{
  "nbformat": 4,
  "nbformat_minor": 0,
  "metadata": {
    "colab": {
      "name": "Twosum.ipynb",
      "provenance": []
    },
    "kernelspec": {
      "name": "python3",
      "display_name": "Python 3"
    },
    "language_info": {
      "name": "python"
    }
  },
  "cells": [
    {
      "cell_type": "code",
      "metadata": {
        "colab": {
          "base_uri": "https://localhost:8080/"
        },
        "id": "RFH0FhxOC8Zv",
        "outputId": "baf0828f-d331-489b-e131-59ad4cd993d7"
      },
      "source": [
        "nums = [2,7,11,15]\n",
        "target = 9 \n",
        "\n",
        "for i in range(len(nums)):\n",
        "  for j in range(len(nums)):\n",
        "    if nums[i] + nums[j] == target:\n",
        "      print(i,j)\n",
        "      break"
      ],
      "execution_count": 8,
      "outputs": [
        {
          "output_type": "stream",
          "text": [
            "0 1\n",
            "1 0\n"
          ],
          "name": "stdout"
        }
      ]
    }
  ]
}