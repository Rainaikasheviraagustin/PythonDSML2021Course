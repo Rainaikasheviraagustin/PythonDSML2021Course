{
  "nbformat": 4,
  "nbformat_minor": 0,
  "metadata": {
    "colab": {
      "name": "AddTwoSum.ipynb",
      "provenance": []
    },
    "kernelspec": {
      "name": "python3",
      "display_name": "Python 3"
    },
    "language_info": {
      "name": "python"
    }
  },
  "cells": [
    {
      "cell_type": "code",
      "metadata": {
        "id": "RFH0FhxOC8Zv"
      },
      "source": [
        "l1 = [2,4,3]\n",
        "l2 = [5,6,4]\n",
        "class ListNode:\n",
        "  def __init__(self, val=0, next=None):\n",
        "    self.val = val\n",
        "    self.next = next\n",
        "def addTwoNumbers(self, l1: ListNode, l2: ListNode) -> ListNode:\n",
        "  l1_array = []\n",
        "  l1_array.append(str(l1.val))\n",
        "  while l1.next != None:\n",
        "    l1 = l1.next\n",
        "    l1_array.append(str(l1.val))\n",
        "  l1_array = l1_array[::-1]\n",
        "  result_1 = ''.join(l1_array)\n",
        "\n",
        "  l2_array = []\n",
        "  l2_array.append(str(l2.val))\n",
        "  while l2.next != None:\n",
        "    l2 = l2.next\n",
        "    l2_array.append(str(l2.val))\n",
        "  l2_array = l2_array[::-1]\n",
        "  result_2 = ''.join(l2_array)\n",
        "\n",
        "  result = int(result_1) + int(result_2)\n",
        "  result_array = []\n",
        "  for i in str(result):\n",
        "    result_array.append(i)\n",
        "  result = ''.join(result_array)\n",
        "  result = result[::-1]\n",
        "\n",
        "  for index, e in enumerate(result):\n",
        "    if index == 0:\n",
        "      cur = dummy = ListNode(e)        \n",
        "    else:\n",
        "      cur.next = ListNode(e)\n",
        "      cur = cur.next        \n",
        "  return dummy"
      ],
      "execution_count": 10,
      "outputs": []
    }
  ]
}