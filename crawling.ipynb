{
  "nbformat": 4,
  "nbformat_minor": 0,
  "metadata": {
    "colab": {
      "name": "Untitled0.ipynb",
      "provenance": []
    },
    "kernelspec": {
      "name": "python3",
      "display_name": "Python 3"
    },
    "language_info": {
      "name": "python"
    }
  },
  "cells": [
    {
      "cell_type": "code",
      "metadata": {
        "colab": {
          "base_uri": "https://localhost:8080/"
        },
        "id": "M5Tm53uZ5vBW",
        "outputId": "1b00b557-43fd-426d-c7f0-97e30224d724"
      },
      "source": [
        "import requests\n",
        "from bs4 import BeautifulSoup \n",
        "\n",
        "url = 'https://www.goodreads.com/search?q=dilan'\n",
        "\n",
        "r = requests.get(url)\n",
        "\n",
        "request = r.content\n",
        "\n",
        "soup = BeautifulSoup(request, 'html.parser')\n",
        "\n",
        "title = soup.findAll('a', attrs={'class': 'bookTitle'})\n",
        "author = soup.findAll('a', attrs={'class' : 'authorName'})\n",
        "\n",
        "count = 0 \n",
        "for x in range (0, len(title)):\n",
        "  count += 1\n",
        "  print(\"{0}. {1}\\n    .(2)\". format(count, title[x].text.strip(), author[x].text.strip()))"
      ],
      "execution_count": 2,
      "outputs": [
        {
          "output_type": "stream",
          "text": [
            "1. Dilan: Dia Adalah Dilanku Tahun 1990 (Dilan, #1)\n",
            "    .(2)\n",
            "2. Dilan Bagian Kedua: Dia Adalah Dilanku Tahun 1991\n",
            "    .(2)\n",
            "3. Milea: Suara Dari Dilan\n",
            "    .(2)\n",
            "4. MILEA Voice of Dilan\n",
            "    .(2)\n",
            "5. The Deliverance of Dilan (The Syndicate #4)\n",
            "    .(2)\n",
            "6. DILAN Bagian Kedua DIA ADALAH DILANKU 1991: DILAN The Second Part of HIM IS MY DILANK\n",
            "    .(2)\n",
            "7. DILAN (HE IS DILAN) IN 1990: \"Milea, you're beautiful, but I have not loved you yet I do not know if it's an afternoon. (DILAN 1990) (E-BOOK DILAN 123)\n",
            "    .(2)\n",
            "8. Dilan\n",
            "    .(2)\n",
            "9. Dilan Dog – Majke i očevi\n",
            "    .(2)\n",
            "10. Dilan Dog #128 – Duboki svemir\n",
            "    .(2)\n",
            "11. Flickornas historia: Europa: från Eirene i antiken till Dilan i vår tid\n",
            "    .(2)\n",
            "12. Instant Pot Cookbook For Babies: The Complete Baby Food Cookbook with Delicious and Nutritious Instant Pot Recipes For Your Baby and Toddler\n",
            "    .(2)\n",
            "13. Biblioteka Obojeni Program #1 Dilan Dog: Zbogom, Gručo - Pegava traka - Mračni dani - Dvostruki identitet (Dylan Dog Color Fest, #10)\n",
            "    .(2)\n",
            "14. Uz autostrādes. Bobs Dilans.\n",
            "    .(2)\n",
            "15. 24 jours, la vérité sur la mort d'Ilan Halimi suivi de La mort d'un pote\n",
            "    .(2)\n",
            "16. Zlatna Serija #2 Dilan Dog: Ponovo radi bioskop - Saldo (Dylan Dog Magazine, #1)\n",
            "    .(2)\n",
            "17. Dilan Dog predstavlja Priče iz nekog drugog sutra #1: Nemoguća knjiga\n",
            "    .(2)\n",
            "18. Dilan Dog #116 – Novi život\n",
            "    .(2)\n",
            "19. Biblioteka Obojeni Program #7 Dilan Dog: Planeta mrtvih - Video-ubica - Mag biznisa - Pakao na zemlji (Dylan Dog Color Fest, #2)\n",
            "    .(2)\n",
            "20. Esaret Parmağı\n",
            "    .(2)\n"
          ],
          "name": "stdout"
        }
      ]
    },
    {
      "cell_type": "code",
      "metadata": {
        "id": "OzcAR60P9f9y"
      },
      "source": [
        ""
      ],
      "execution_count": null,
      "outputs": []
    }
  ]
}